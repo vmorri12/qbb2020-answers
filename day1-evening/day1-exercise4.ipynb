{
 "cells": [
  {
   "cell_type": "code",
   "execution_count": 4,
   "metadata": {},
   "outputs": [
    {
     "name": "stdout",
     "output_type": "stream",
     "text": [
      "119281565\n"
     ]
    },
    {
     "data": {
      "text/plain": [
       "59.6407825"
      ]
     },
     "execution_count": 4,
     "metadata": {},
     "output_type": "execute_result"
    }
   ],
   "source": [
    "fs=open(\"/Users/cmdb/SRR072893.sam\", 'r')\n",
    "num_r=0\n",
    "sum = 0\n",
    "for read in fs:\n",
    "    num_r=num_r+1\n",
    "    #if num_r < 15:\n",
    "    rsp=read.split()\n",
    "    sum = sum + int(rsp[4])\n",
    "#print(reads)\n",
    "\n",
    "print(sum)\n",
    "sum/num_r"
   ]
  },
  {
   "cell_type": "code",
   "execution_count": 5,
   "metadata": {},
   "outputs": [
    {
     "name": "stdout",
     "output_type": "stream",
     "text": [
      "The average MAPQ is  59.6407825\n"
     ]
    }
   ],
   "source": [
    "average_mapq = sum/num_r\n",
    "print(\"The average MAPQ is \", average_mapq)"
   ]
  },
  {
   "cell_type": "code",
   "execution_count": null,
   "metadata": {},
   "outputs": [],
   "source": []
  }
 ],
 "metadata": {
  "kernelspec": {
   "display_name": "Python 3",
   "language": "python",
   "name": "python3"
  },
  "language_info": {
   "codemirror_mode": {
    "name": "ipython",
    "version": 3
   },
   "file_extension": ".py",
   "mimetype": "text/x-python",
   "name": "python",
   "nbconvert_exporter": "python",
   "pygments_lexer": "ipython3",
   "version": "3.6.10"
  }
 },
 "nbformat": 4,
 "nbformat_minor": 4
}
