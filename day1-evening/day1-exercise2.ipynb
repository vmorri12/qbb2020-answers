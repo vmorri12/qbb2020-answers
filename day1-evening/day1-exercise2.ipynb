{
 "cells": [
  {
   "cell_type": "code",
   "execution_count": 1,
   "metadata": {},
   "outputs": [
    {
     "name": "stdout",
     "output_type": "stream",
     "text": [
      "SRR072893.1692271\t0\t2L\t7583\t60\t40M\t*\t0\t0\tAGAGAACCCACGTTTGAACAAGTATCGGCGTGTGGACAAC\t<9799:>A>?:?:?>A?>><1;297-00+/C@@C8/>@49\tAS:i:0\tXN:i:0\tXM:i:0\tXO:i:0\tXG:i:0\tNM:i:0\tMD:Z:40\tYT:Z:UU\tNH:i:1\n",
      "\n"
     ]
    }
   ],
   "source": [
    "fs=open(\"/Users/cmdb/SRR072893.sam\", 'r')\n",
    "line=fs.readline()\n",
    "print(line)"
   ]
  },
  {
   "cell_type": "code",
   "execution_count": 3,
   "metadata": {},
   "outputs": [
    {
     "name": "stdout",
     "output_type": "stream",
     "text": [
      "1702765\n"
     ]
    }
   ],
   "source": [
    "perf_align=0\n",
    "fs.seek(0)\n",
    "for line in fs:\n",
    "    if \"NM:i:0\" in line:\n",
    "        perf_align=perf_align+1\n",
    "print(perf_align)"
   ]
  },
  {
   "cell_type": "code",
   "execution_count": null,
   "metadata": {},
   "outputs": [],
   "source": []
  }
 ],
 "metadata": {
  "kernelspec": {
   "display_name": "Python 3",
   "language": "python",
   "name": "python3"
  },
  "language_info": {
   "codemirror_mode": {
    "name": "ipython",
    "version": 3
   },
   "file_extension": ".py",
   "mimetype": "text/x-python",
   "name": "python",
   "nbconvert_exporter": "python",
   "pygments_lexer": "ipython3",
   "version": "3.6.10"
  }
 },
 "nbformat": 4,
 "nbformat_minor": 4
}
