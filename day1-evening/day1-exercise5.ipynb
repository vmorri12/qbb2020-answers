{
 "cells": [
  {
   "cell_type": "code",
   "execution_count": 4,
   "metadata": {},
   "outputs": [
    {
     "name": "stdout",
     "output_type": "stream",
     "text": [
      "SRR072893.1692271\t0\t2L\t7583\t60\t40M\t*\t0\t0\tAGAGAACCCACGTTTGAACAAGTATCGGCGTGTGGACAAC\t<9799:>A>?:?:?>A?>><1;297-00+/C@@C8/>@49\tAS:i:0\tXN:i:0\tXM:i:0\tXO:i:0\tXG:i:0\tNM:i:0\tMD:Z:40\tYT:Z:UU\tNH:i:1\n",
      "\n"
     ]
    }
   ],
   "source": [
    "fs=open(\"/Users/cmdb/SRR072893.sam\", 'r')\n",
    "line=fs.readline()\n",
    "print(line)"
   ]
  },
  {
   "cell_type": "code",
   "execution_count": 5,
   "metadata": {},
   "outputs": [
    {
     "name": "stdout",
     "output_type": "stream",
     "text": [
      "7550\n"
     ]
    }
   ],
   "source": [
    "num_r=0\n",
    "for read in fs:\n",
    "    rsp=read.split()\n",
    "    if \"2L\" in read and 9999 < int(rsp[3]) < 20001:\n",
    "        num_r= num_r+1\n",
    "print(num_r)"
   ]
  },
  {
   "cell_type": "code",
   "execution_count": null,
   "metadata": {},
   "outputs": [],
   "source": []
  }
 ],
 "metadata": {
  "kernelspec": {
   "display_name": "Python 3",
   "language": "python",
   "name": "python3"
  },
  "language_info": {
   "codemirror_mode": {
    "name": "ipython",
    "version": 3
   },
   "file_extension": ".py",
   "mimetype": "text/x-python",
   "name": "python",
   "nbconvert_exporter": "python",
   "pygments_lexer": "ipython3",
   "version": "3.6.10"
  }
 },
 "nbformat": 4,
 "nbformat_minor": 4
}
