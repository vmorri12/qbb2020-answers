{
 "cells": [
  {
   "cell_type": "code",
   "execution_count": null,
   "metadata": {},
   "outputs": [],
   "source": [
    "%%bash\n",
    "bowtie2-build chr19.fa /Users/cmdb/qbb2020-answers/quantbio/week5/chr19"
   ]
  },
  {
   "cell_type": "code",
   "execution_count": null,
   "metadata": {},
   "outputs": [],
   "source": [
    "%%bash\n",
    "in [~/qbb2020-answers/quantbio/week5/g1e]\n",
    "for sample in CTCF_ER4 CTCF_G1E\n",
    "> do\n",
    "> bowtie2 -x /Users/cmdb/qbb2020-answers/quantbio/week5/chr19_index/chr19 -U ${sample}.fastq -S ${sample}.sam -p 6\n",
    "> samtools view -bSo ${sample}.bam ${sample}.sam\n",
    ">  samtools sort ${sample}.bam -o ${sample}.sorted.bam\n",
    "> samtools index ${sample}.sorted.bam\n",
    "> done\n"
   ]
  },
  {
   "cell_type": "code",
   "execution_count": null,
   "metadata": {},
   "outputs": [],
   "source": [
    "for sample in input_ER4 input_G1E\n",
    "> do\n",
    "> bowtie2 -x /Users/cmdb/qbb2020-answers/quantbio/week5/chr19_index/chr19 -U ${sample}.fastq -S ${sample}.sam -p 6\n",
    "> samtools view -bSo ${sample}.bam ${sample}.sam\n",
    ">  samtools sort ${sample}.bam -o ${sample}.sorted.bam\n",
    "> samtools index ${sample}.sorted.bam\n",
    "> done"
   ]
  },
  {
   "cell_type": "code",
   "execution_count": null,
   "metadata": {},
   "outputs": [],
   "source": [
    "macs2 callpeak -t CTCF_ER4.bam  -c input_ER4.bam --format=BAM --name=ER4 --gsize=61000000 --tsize=36\n",
    "macs2 callpeak -t CTCF_G1E.bam  -c input_G1E.bam --format=BAM --name=G1E --gsize=61000000 --tsize=36"
   ]
  },
  {
   "cell_type": "code",
   "execution_count": null,
   "metadata": {},
   "outputs": [],
   "source": [
    "bedtools intersect -v -a ER4_peaks.narrowPeak -b G1E_peaks.narrowPeak > gained_sites.bed\n",
    "bedtools intersect -v -a G1E_peaks.narrowPeak -b ER4_peaks.narrowPeak > lost_sites.bed"
   ]
  },
  {
   "cell_type": "code",
   "execution_count": null,
   "metadata": {},
   "outputs": [],
   "source": [
    "bedtools intersect -wa -wb -a Mus_musculus.GRCm38.94_features.bed -b G1E_peaks.narrowPeak ER4_peaks.narrowPeak > overlaps.bed"
   ]
  },
  {
   "cell_type": "code",
   "execution_count": null,
   "metadata": {},
   "outputs": [],
   "source": [
    "cut -f 4 |sort -f 4 | sort |uniq -c overlaps.bed > feature_cell"
   ]
  },
  {
   "cell_type": "code",
   "execution_count": null,
   "metadata": {},
   "outputs": [],
   "source": [
    "bedtools intersect -a Mus_musculus.GRCm38.94_features.bed -b ER4_peaks.narrowPeak | cut -f 4 |sort -f 4 | sort |uniq -c > ER4overlaps.bed\n",
    "bedtools intersect -a Mus_musculus.GRCm38.94_features.bed -b G1E_peaks.narrowPeak | cut -f 4 |sort -f 4 | sort |uniq -c > G1Eoverlaps.bed"
   ]
  },
  {
   "cell_type": "code",
   "execution_count": null,
   "metadata": {},
   "outputs": [],
   "source": [
    "bedtools intersect -a Mus_musculus.GRCm38.94_features.bed -b ER4_peaks.narrowPeak > ER4overlaps.bed"
   ]
  },
  {
   "cell_type": "code",
   "execution_count": 5,
   "metadata": {},
   "outputs": [],
   "source": [
    "ER4 = open(\"/Users/cmdb/qbb2020-answers/quantbio/week5/g1e/ER4overlaps.bed\", \"r\")\n",
    "G1E = open(\"/Users/cmdb/qbb2020-answers/quantbio/week5/g1e/G1Eoverlaps.bed\", \"r\")\n",
    "\n",
    "ER4_exon = 0\n",
    "ER4_intron = 0\n",
    "ER4_prom = 0\n",
    "G1E_exon = 0\n",
    "G1E_intron = 0\n",
    "G1E_prom = 0\n",
    "\n",
    "for i in ER4:\n",
    "    fields = i.rstrip('n\\r').split('\\t')\n",
    "    if \"exon\" in fields:\n",
    "        ER4_exon +=1\n",
    "    if \"intron\" in fields:\n",
    "        ER4_intron +=1\n",
    "    if \"promoter\" in fields:\n",
    "        ER4_prom +=1\n",
    "        \n",
    "for i in G1E:\n",
    "    fields = i.rstrip('n\\r').split('\\t')\n",
    "    if \"exon\" in fields:\n",
    "        G1E_exon +=1\n",
    "    if \"intron\" in fields:\n",
    "        G1E_intron +=1\n",
    "    if \"promoter\" in fields:\n",
    "        G1E_prom +=1\n"
   ]
  },
  {
   "cell_type": "code",
   "execution_count": 36,
   "metadata": {},
   "outputs": [
    {
     "name": "stdout",
     "output_type": "stream",
     "text": [
      "[[101, 84], [341, 307], [67, 54]] [84, 307, 54] [101, 341, 67]\n"
     ]
    }
   ],
   "source": [
    "Exons = [ER4_exon, G1E_exon]\n",
    "Introns = [ER4_intron, G1E_intron]\n",
    "Promoters = [ER4_prom, G1E_prom]\n",
    "Data = [\"Exons\", \"Introns\", \"Promoters\"]\n",
    "G1E_feat = [G1E_exon, G1E_intron, G1E_prom]\n",
    "ER4_feat = [ER4_exon, ER4_intron, ER4_prom]\n",
    "Features = []\n",
    "print(Data, G1E_feat, ER4_feat)"
   ]
  },
  {
   "cell_type": "code",
   "execution_count": 70,
   "metadata": {},
   "outputs": [
    {
     "name": "stdout",
     "output_type": "stream",
     "text": [
      "     124 /Users/cmdb/qbb2020-answers/quantbio/week5/g1e/gained_sites.bed\n"
     ]
    }
   ],
   "source": [
    "%%bash\n",
    "wc -l /Users/cmdb/qbb2020-answers/quantbio/week5/g1e/gained_sites.bed"
   ]
  },
  {
   "cell_type": "code",
   "execution_count": 72,
   "metadata": {},
   "outputs": [
    {
     "name": "stdout",
     "output_type": "stream",
     "text": [
      "      57 /Users/cmdb/qbb2020-answers/quantbio/week5/g1e/lost_sites.bed\n"
     ]
    }
   ],
   "source": [
    "%%bash\n",
    "wc -l /Users/cmdb/qbb2020-answers/quantbio/week5/g1e/lost_sites.bed"
   ]
  },
  {
   "cell_type": "code",
   "execution_count": 79,
   "metadata": {},
   "outputs": [
    {
     "data": {
      "text/plain": [
       "<matplotlib.legend.Legend at 0x7fdbeaab6f28>"
      ]
     },
     "execution_count": 79,
     "metadata": {},
     "output_type": "execute_result"
    },
    {
     "data": {
      "image/png": "[encoded data removed]",
      "text/plain": [
       "<Figure size 432x288 with 2 Axes>"
      ]
     },
     "metadata": {
      "needs_background": "light"
     },
     "output_type": "display_data"
    }
   ],
   "source": [
    "import numpy as np\n",
    "import matplotlib.pyplot as plt \n",
    "\n",
    "feats = ('Exon','Intron','Promoter')\n",
    "los_gain = ('Lost', 'Gained')\n",
    "G1E_lg = (124,57)\n",
    "ER4_lg = (57,124)\n",
    "G1E_feat = (84, 307, 54)\n",
    "ER4_feat = (101, 341, 67)\n",
    "xticks = (0,1,2)\n",
    "xticks2 = (0,1)\n",
    "\n",
    "feat = np.arange(len(features))\n",
    "lg = np.arange(len(direction))\n",
    "width = 0.4\n",
    "\n",
    "fig, ax = plt.subplots(1,2)\n",
    "label1 = ax[0].bar(feat - width/2, G1E_feat, width, label='G1E', color = 'mediumorchid')\n",
    "label2 = ax[0].bar(feat + width/2, ER4_feat, width, label='ER4', color = 'royalblue')\n",
    "ax[0].set_xticks(xticks)\n",
    "ax[0].set_xticklabels(feats)\n",
    "ax[0].set_ylabel(\"Count of Binding Sites\")\n",
    "ax[0].set_title(\"CTCF Binding Per Region/Cell Type\")\n",
    "ax[0].legend()\n",
    "\n",
    "label1 = ax[1].bar(lg - width/2, G1E_lg, width, label='G1E', color = 'mediumorchid')\n",
    "label2 = ax[1].bar(lg + width/2, ER4_lg, width, label='ER4', color = 'royalblue')\n",
    "ax[1].set_xticks(xticks2)\n",
    "ax[1].set_xticklabels(los_gain)\n",
    "ax[1].set_title(\"Site Change During Dev\")\n",
    "ax[1].legend()"
   ]
  },
  {
   "cell_type": "code",
   "execution_count": 22,
   "metadata": {},
   "outputs": [
    {
     "name": "stdout",
     "output_type": "stream",
     "text": [
      "     124 /Users/cmdb/qbb2020-answers/quantbio/week5/g1e/gained_sites.bed\n"
     ]
    }
   ],
   "source": [
    "%%bash\n",
    "wc -l /Users/cmdb/qbb2020-answers/quantbio/week5/g1e/gained_sites.bed"
   ]
  },
  {
   "cell_type": "code",
   "execution_count": 23,
   "metadata": {},
   "outputs": [
    {
     "name": "stdout",
     "output_type": "stream",
     "text": [
      "      57 /Users/cmdb/qbb2020-answers/quantbio/week5/g1e/lost_sites.bed\n"
     ]
    }
   ],
   "source": [
    "%%bash\n",
    "wc -l /Users/cmdb/qbb2020-answers/quantbio/week5/g1e/lost_sites.bed"
   ]
  },
  {
   "cell_type": "code",
   "execution_count": null,
   "metadata": {},
   "outputs": [],
   "source": [
    "objects = ('ER4_prom', 'ER4_exon', \"ER4_intron\", \"g1e_prom\", \"g1e_exon\", \"g1e_intron\")\n",
    "y_pos = np.arange(len(objects))\n",
    "value = [ER4_prom, ER4_exon, ER4_intron, G1E_prom, G1E_exon, G1E_intron]\n",
    "plt.bar(y_pos, value, align='center', alpha=0.5)\n",
    "plt.xticks(y_pos, objects)\n",
    "plt.ylabel('Counts')\n",
    "plt.title('Type of DNA')"
   ]
  },
  {
   "cell_type": "code",
   "execution_count": null,
   "metadata": {},
   "outputs": [],
   "source": [
    "#Part 2"
   ]
  },
  {
   "cell_type": "code",
   "execution_count": null,
   "metadata": {},
   "outputs": [],
   "source": [
    "sort -r -k 5 ER4_peaks.narrowPeak | head -n 100 > ER4_top_peaks"
   ]
  },
  {
   "cell_type": "code",
   "execution_count": null,
   "metadata": {},
   "outputs": [],
   "source": [
    "bedtools getfasta -fi /Users/cmdb/qbb2020-answers/quantbio/week5/chr19.fa -bed /Users/cmdb/qbb2020-answers/quantbio/week5/g1e/ER4_top_peaks > /Users/cmdb/qbb2020-answers/quantbio/week5/g1e/sorterER4_peaks.fa"
   ]
  },
  {
   "cell_type": "code",
   "execution_count": null,
   "metadata": {},
   "outputs": [],
   "source": [
    "meme-chip -meme-maxw 20 -oc meme_chip sorterER4_peaks.fa"
   ]
  },
  {
   "cell_type": "code",
   "execution_count": null,
   "metadata": {},
   "outputs": [],
   "source": [
    "tomtom /Users/cmdb/qbb2020-answers/quantbio/week5/g1e/meme_chip/combined.meme /Users/cmdb/qbb2020-answers/quantbio/week5/motif_databases/JASPAR/JASPAR_CORE_2016.meme"
   ]
  },
  {
   "cell_type": "code",
   "execution_count": null,
   "metadata": {},
   "outputs": [],
   "source": [
    "sort -k 5 /Users/cmdb/qbb2020-answers/quantbio/week5/g1e/tomtom_out/tomtom.txt | head -n 10 > sorted_tomtom.txt"
   ]
  },
  {
   "cell_type": "code",
   "execution_count": 80,
   "metadata": {},
   "outputs": [
    {
     "name": "stdout",
     "output_type": "stream",
     "text": [
      "\n",
      "# tomtom /Users/cmdb/qbb2020-answers/quantbio/week5/g1e/meme_chip/combined.meme /Users/cmdb/qbb2020-answers/quantbio/week5/motif_databases/JASPAR/JASPAR_CORE_2016.meme\n",
      "1\tMA0395.1\t1\t0.000184437\t0.199561\t0.131259\t19\tCTCTAGCGCCCCCTAGTGGC\tTGATCGGCGCCGCACGACGA\t+\n",
      "2\tMA0139.1\t8\t0.000342775\t0.370883\t0.341002\t7\tAGAGGGC\tTGGCCACCAGGGGGCGCTA\t+\n",
      "2\tMA0443.1\t0\t0.000455156\t0.492479\t0.341002\t7\tAGAGGGC\tAGGGGGCGGA\t+\n",
      "2\tMA0685.1\t2\t0.000473218\t0.512021\t0.341002\t7\tAGAGGGC\tAAAGGGGGCGTGGCTTA\t-\n",
      "2\tMA0740.1\t1\t0.000824094\t0.89167\t0.445383\t7\tAGAGGGC\tAAGGGGGCGTGGCC\t-\n",
      "1\tMA0976.1\t-5\t0.000860627\t0.931198\t0.307973\t8\tCTCTAGCGCCCCCTAGTGGC\tGCGCCGCC\t+\n",
      "1\tMA0269.1\t2\t0.00127626\t1.38092\t0.307973\t19\tCTCTAGCGCCCCCTAGTGGC\tTTACATATTGCACCCGATTGG\t+\n",
      "1\tMA0998.1\t-5\t0.00130351\t1.4104\t0.307973\t10\tCTCTAGCGCCCCCTAGTGGC\tCCGCCGCCAT\t+\n"
     ]
    }
   ],
   "source": [
    "%%bash \n",
    "less -S /Users/cmdb/qbb2020-answers/quantbio/week5/g1e/sorted_tomtom"
   ]
  },
  {
   "cell_type": "code",
   "execution_count": 82,
   "metadata": {},
   "outputs": [
    {
     "name": "stdout",
     "output_type": "stream",
     "text": [
      "\n",
      "# tomtom /Users/cmdb/qbb2020-answers/quantbio/week5/g1e/meme_chip/combined.meme /Users/cmdb/qbb2020-answers/quantbio/week5/motif_databases/JASPAR/JASPAR_CORE_2016.meme\n",
      "1\tMA0395.1\t1\t0.000184437\t0.199561\t0.131259\t19\tCTCTAGCGCCCCCTAGTGGC\tTGATCGGCGCCGCACGACGA\t+\n"
     ]
    }
   ],
   "source": [
    "%%bash\n",
    "head -n 3 /Users/cmdb/qbb2020-answers/quantbio/week5/g1e/sorted_tomtom\n"
   ]
  },
  {
   "cell_type": "code",
   "execution_count": null,
   "metadata": {},
   "outputs": [],
   "source": [
    "epstopdf"
   ]
  }
 ],
 "metadata": {
  "kernelspec": {
   "display_name": "Python 3",
   "language": "python",
   "name": "python3"
  },
  "language_info": {
   "codemirror_mode": {
    "name": "ipython",
    "version": 3
   },
   "file_extension": ".py",
   "mimetype": "text/x-python",
   "name": "python",
   "nbconvert_exporter": "python",
   "pygments_lexer": "ipython3",
   "version": "3.6.10"
  }
 },
 "nbformat": 4,
 "nbformat_minor": 4
}
