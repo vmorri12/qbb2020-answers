{
 "cells": [
  {
   "cell_type": "markdown",
   "metadata": {},
   "source": [
    "## Step 1"
   ]
  },
  {
   "cell_type": "code",
   "execution_count": 1,
   "metadata": {
    "scrolled": true
   },
   "outputs": [],
   "source": [
    "#Parse the file\n",
    "#%%bash\n",
    "#for SAMPLE in 83 86 88 89 90 93 94 97\n",
    "#do\n",
    "   # cut -c 11- SRR4921${SAMPLE}.kraken | awk '{gsub(\";\",\"\\t\"); print}' > day_${SAMPLE}.kraken\n",
    "#done\n"
   ]
  },
  {
   "cell_type": "markdown",
   "metadata": {},
   "source": [
    "#Make Krona charts\n",
    "\n",
    "ktImportText day_83.kraken\n",
    "\n",
    "mv text.krona.html ~/qbb2020-answers/quantbio/week13/week13_data/KRAKEN/KTImport/day_83.html\n",
    "\n",
    "ktImportText day_86.kraken\n",
    "\n",
    "mv text.krona.html ~/qbb2020-answers/quantbio/week13/week13_data/KRAKEN/KTImport/day_86.html\n",
    "\n",
    "ktImportText day_88.kraken\n",
    "\n",
    "mv text.krona.html ~/qbb2020-answers/quantbio/week13/week13_data/KRAKEN/KTImport/day_88.html\n",
    "\n",
    "ktImportText day_89.kraken\n",
    "\n",
    "mv text.krona.html ~/qbb2020-answers/quantbio/week13/week13_data/KRAKEN/KTImport/day_89.html\n",
    "\n",
    "ktImportText day_90.kraken\n",
    "\n",
    "mv text.krona.html ~/qbb2020-answers/quantbio/week13/week13_data/KRAKEN/KTImport/day_90.html\n",
    "\n",
    "ktImportText day_93.kraken\n",
    "\n",
    "mv text.krona.html ~/qbb2020-answers/quantbio/week13/week13_data/KRAKEN/KTImport/day_93.html\n",
    "\n",
    "ktImportText day_94.kraken\n",
    "\n",
    "mv text.krona.html ~/qbb2020-answers/quantbio/week13/week13_data/KRAKEN/KTImport/day_94.html\n",
    "\n",
    "ktImportText day_97.kraken\n",
    "\n",
    "mv text.krona.html ~/qbb2020-answers/quantbio/week13/week13_data/KRAKEN/KTImport/day_97.html\n"
   ]
  },
  {
   "cell_type": "markdown",
   "metadata": {},
   "source": [
    "Question 1: Briefly comment on the trends you see in the gut microbiota throughout the first week. Over the first week, the number of species in the gut microbiota seems to increase. Thus, throughout week 1 there is greater variation in the gut microbiota. "
   ]
  },
  {
   "cell_type": "markdown",
   "metadata": {},
   "source": [
    "## Step 2"
   ]
  },
  {
   "cell_type": "markdown",
   "metadata": {},
   "source": [
    "#make sam files\n",
    "bwa index -a bwtsw assembly.fasta\n",
    "for SAMPLE in 83_1 83_2 86_1 86_2 88_1 88_2 89_1 89_2 90_1 90_2 93_1 93_2 94_1 94_2 97_1 97_2\n",
    "do\n",
    "bwa mem -R \"@RG\\tID:Sample1\\tSM:Sample1\" -o {SAMPLE}.sam assembly.fasta SRR4921{SAMPLE}.fastq\n",
    "done"
   ]
  },
  {
   "cell_type": "markdown",
   "metadata": {},
   "source": [
    "#make bam files\n",
    "for SAMPLE in 83_1 83_2 86_1 86_2 88_1 88_2 89_1 89_2 90_1 90_2 93_1 93_2 94_1 94_2 97_1 97_2\n",
    "do\n",
    "samtools sort -o ${SAMPLE}.bam -O bam ${SAMPLE}.sam\n",
    "done"
   ]
  },
  {
   "cell_type": "markdown",
   "metadata": {},
   "source": [
    "#run metabat2\n",
    "for SAMPLE in 83_1 83_2 86_1 86_2 88_1 88_2 89_1 89_2 90_1 90_2 93_1 93_2 94_1 94_2 97_1 97_2\n",
    "do\n",
    "metabat2 -i assembly.fasta -o ${SAMPLE}.bam\n",
    "done"
   ]
  },
  {
   "cell_type": "markdown",
   "metadata": {},
   "source": [
    "*** ways above was not the right way to use metabat, created bins for each days, below is correct\n",
    "\n",
    "chmod + x runMetaBat.sh\n",
    "\n",
    "conda create -n metabat2 -c bioconda metabat2=2.13 libdeflate=1.0\n",
    "\n",
    "runMetaBat.sh assembly.fasta *.bam\n",
    "\n",
    "conda create -n metabat -c bioconda metabat2\n",
    "\n",
    "metabat2 -i assembly.fasta -a assembly.fasta.depth.txt -o bins_dir/bin"
   ]
  },
  {
   "cell_type": "markdown",
   "metadata": {},
   "source": [
    "Question 2: What metrics in the contigs can we use to group them together? \n",
    "\n",
    "In the sheared pieces, how much of the overlaps is aligned to give a percent identity match. "
   ]
  },
  {
   "cell_type": "markdown",
   "metadata": {},
   "source": [
    "Question 3:\n",
    "\n",
    "(A) How many bins did you get? \n",
    "6 bins\n",
    "\n",
    "(B) Roughly what percentage of the assembly do they represent? \n",
    "To find the number of contigs in each bin I used \"grep \">\" and compared this to the total number of contigs in the assembly using \"grep '>' \" of the assembly file. The bins appear to be about 50% of the assembly. \n",
    "\n",
    "(C) Do you think the sizes of each bin look about right, based on what you know about the size of prokaryotic genomes?\n",
    "A prokaryotic genome can range upwards  of 10 million base pairs long, so the sizes of the bins look about right as the smallest bin had about 1 million base pairs (found by character count) and the largest bin had about 13 million base pairs. \n",
    "\n",
    "(D) How would you estimate how complete and how contaminated each bin is?\n",
    "You could create a Kronos chart for bins of each day and see how they compare to the original Kronos chart. "
   ]
  },
  {
   "cell_type": "markdown",
   "metadata": {},
   "source": [
    "## Step 3"
   ]
  },
  {
   "cell_type": "markdown",
   "metadata": {},
   "source": [
    "Question 4:\n",
    "(A) What are your predictions for each bin?\n",
    "(B) This approach to classification is fast, but not very quantitative. Propose one method to more robustly infer the taxonomy of a metagenomic bin."
   ]
  },
  {
   "cell_type": "markdown",
   "metadata": {},
   "source": [
    "## Step 4"
   ]
  },
  {
   "cell_type": "markdown",
   "metadata": {},
   "source": [
    "Question 5: Compare the results of the individual genome abundance analysis to the conclusions you derived from looking at the read taxonomy distributions (from Step 1). Do they agree with each other? What is different?"
   ]
  }
 ],
 "metadata": {
  "kernelspec": {
   "display_name": "Python 3",
   "language": "python",
   "name": "python3"
  },
  "language_info": {
   "codemirror_mode": {
    "name": "ipython",
    "version": 3
   },
   "file_extension": ".py",
   "mimetype": "text/x-python",
   "name": "python",
   "nbconvert_exporter": "python",
   "pygments_lexer": "ipython3",
   "version": "3.6.10"
  }
 },
 "nbformat": 4,
 "nbformat_minor": 4
}
